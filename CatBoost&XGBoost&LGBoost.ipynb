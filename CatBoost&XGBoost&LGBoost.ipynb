{
 "cells": [
  {
   "cell_type": "code",
   "execution_count": 6,
   "id": "59943b6a-d40a-4e8c-8ec9-655841a699f8",
   "metadata": {},
   "outputs": [],
   "source": [
    "import pandas as pd \n",
    "df = pd.read_csv(\"LE.csv\")"
   ]
  },
  {
   "cell_type": "code",
   "execution_count": 20,
   "id": "1ee11a82-0ef6-4de1-822a-ad9c67640664",
   "metadata": {},
   "outputs": [
    {
     "name": "stdout",
     "output_type": "stream",
     "text": [
      "Requirement already satisfied: catboost in c:\\users\\chara\\appdata\\local\\programs\\python\\python311\\lib\\site-packages (1.2.7)\n",
      "Requirement already satisfied: graphviz in c:\\users\\chara\\appdata\\local\\programs\\python\\python311\\lib\\site-packages (from catboost) (0.20.3)\n",
      "Requirement already satisfied: matplotlib in c:\\users\\chara\\appdata\\local\\programs\\python\\python311\\lib\\site-packages (from catboost) (3.10.1)\n",
      "Requirement already satisfied: numpy<2.0,>=1.16.0 in c:\\users\\chara\\appdata\\local\\programs\\python\\python311\\lib\\site-packages (from catboost) (1.26.4)\n",
      "Requirement already satisfied: pandas>=0.24 in c:\\users\\chara\\appdata\\local\\programs\\python\\python311\\lib\\site-packages (from catboost) (2.2.3)\n",
      "Requirement already satisfied: scipy in c:\\users\\chara\\appdata\\local\\programs\\python\\python311\\lib\\site-packages (from catboost) (1.15.2)\n",
      "Requirement already satisfied: plotly in c:\\users\\chara\\appdata\\local\\programs\\python\\python311\\lib\\site-packages (from catboost) (6.0.1)\n",
      "Requirement already satisfied: six in c:\\users\\chara\\appdata\\local\\programs\\python\\python311\\lib\\site-packages (from catboost) (1.17.0)\n",
      "Requirement already satisfied: python-dateutil>=2.8.2 in c:\\users\\chara\\appdata\\local\\programs\\python\\python311\\lib\\site-packages (from pandas>=0.24->catboost) (2.9.0.post0)\n",
      "Requirement already satisfied: pytz>=2020.1 in c:\\users\\chara\\appdata\\local\\programs\\python\\python311\\lib\\site-packages (from pandas>=0.24->catboost) (2023.3.post1)\n",
      "Requirement already satisfied: tzdata>=2022.7 in c:\\users\\chara\\appdata\\local\\programs\\python\\python311\\lib\\site-packages (from pandas>=0.24->catboost) (2025.2)\n",
      "Requirement already satisfied: contourpy>=1.0.1 in c:\\users\\chara\\appdata\\local\\programs\\python\\python311\\lib\\site-packages (from matplotlib->catboost) (1.3.1)\n",
      "Requirement already satisfied: cycler>=0.10 in c:\\users\\chara\\appdata\\local\\programs\\python\\python311\\lib\\site-packages (from matplotlib->catboost) (0.12.1)\n",
      "Requirement already satisfied: fonttools>=4.22.0 in c:\\users\\chara\\appdata\\local\\programs\\python\\python311\\lib\\site-packages (from matplotlib->catboost) (4.56.0)\n",
      "Requirement already satisfied: kiwisolver>=1.3.1 in c:\\users\\chara\\appdata\\local\\programs\\python\\python311\\lib\\site-packages (from matplotlib->catboost) (1.4.8)\n",
      "Requirement already satisfied: packaging>=20.0 in c:\\users\\chara\\appdata\\local\\programs\\python\\python311\\lib\\site-packages (from matplotlib->catboost) (24.2)\n",
      "Requirement already satisfied: pillow>=8 in c:\\users\\chara\\appdata\\local\\programs\\python\\python311\\lib\\site-packages (from matplotlib->catboost) (10.4.0)\n",
      "Requirement already satisfied: pyparsing>=2.3.1 in c:\\users\\chara\\appdata\\local\\programs\\python\\python311\\lib\\site-packages (from matplotlib->catboost) (3.2.3)\n",
      "Requirement already satisfied: narwhals>=1.15.1 in c:\\users\\chara\\appdata\\local\\programs\\python\\python311\\lib\\site-packages (from plotly->catboost) (1.32.0)\n"
     ]
    },
    {
     "name": "stderr",
     "output_type": "stream",
     "text": [
      "WARNING: Ignoring invalid distribution ~treamlit (C:\\Users\\chara\\AppData\\Local\\Programs\\Python\\Python311\\Lib\\site-packages)\n",
      "WARNING: Ignoring invalid distribution ~treamlit (C:\\Users\\chara\\AppData\\Local\\Programs\\Python\\Python311\\Lib\\site-packages)\n",
      "WARNING: Ignoring invalid distribution ~treamlit (C:\\Users\\chara\\AppData\\Local\\Programs\\Python\\Python311\\Lib\\site-packages)\n"
     ]
    },
    {
     "name": "stdout",
     "output_type": "stream",
     "text": [
      "Collecting xgboost\n",
      "  Downloading xgboost-3.0.0-py3-none-win_amd64.whl.metadata (2.1 kB)\n",
      "Requirement already satisfied: numpy in c:\\users\\chara\\appdata\\local\\programs\\python\\python311\\lib\\site-packages (from xgboost) (1.26.4)\n",
      "Requirement already satisfied: scipy in c:\\users\\chara\\appdata\\local\\programs\\python\\python311\\lib\\site-packages (from xgboost) (1.15.2)\n",
      "Downloading xgboost-3.0.0-py3-none-win_amd64.whl (150.0 MB)\n",
      "   ---------------------------------------- 0.0/150.0 MB ? eta -:--:--\n",
      "    --------------------------------------- 3.7/150.0 MB 27.3 MB/s eta 0:00:06\n",
      "   --- ------------------------------------ 13.6/150.0 MB 40.8 MB/s eta 0:00:04\n",
      "   ------ --------------------------------- 26.0/150.0 MB 48.4 MB/s eta 0:00:03\n",
      "   ---------- ----------------------------- 38.0/150.0 MB 51.4 MB/s eta 0:00:03\n",
      "   -------------- ------------------------- 54.8/150.0 MB 57.2 MB/s eta 0:00:02\n",
      "   ------------------- -------------------- 72.1/150.0 MB 61.3 MB/s eta 0:00:02\n",
      "   ----------------------- ---------------- 89.7/150.0 MB 65.0 MB/s eta 0:00:01\n",
      "   --------------------------- ----------- 107.2/150.0 MB 67.1 MB/s eta 0:00:01\n",
      "   -------------------------------- ------ 125.0/150.0 MB 69.4 MB/s eta 0:00:01\n",
      "   ------------------------------------ -- 140.5/150.0 MB 70.1 MB/s eta 0:00:01\n",
      "   --------------------------------------  149.9/150.0 MB 71.0 MB/s eta 0:00:01\n",
      "   --------------------------------------  149.9/150.0 MB 71.0 MB/s eta 0:00:01\n",
      "   --------------------------------------- 150.0/150.0 MB 60.6 MB/s eta 0:00:00\n",
      "Installing collected packages: xgboost\n",
      "Successfully installed xgboost-3.0.0\n"
     ]
    },
    {
     "name": "stderr",
     "output_type": "stream",
     "text": [
      "WARNING: Ignoring invalid distribution ~treamlit (C:\\Users\\chara\\AppData\\Local\\Programs\\Python\\Python311\\Lib\\site-packages)\n",
      "WARNING: Ignoring invalid distribution ~treamlit (C:\\Users\\chara\\AppData\\Local\\Programs\\Python\\Python311\\Lib\\site-packages)\n",
      "WARNING: Ignoring invalid distribution ~treamlit (C:\\Users\\chara\\AppData\\Local\\Programs\\Python\\Python311\\Lib\\site-packages)\n"
     ]
    }
   ],
   "source": [
    "from catboost import CatBoostRegressor, Pool\n",
    "!pip install catboost\n",
    "!pip install xgboost"
   ]
  },
  {
   "cell_type": "code",
   "execution_count": 12,
   "id": "104d87fb-3941-4315-ba0d-4b8303d43eb4",
   "metadata": {},
   "outputs": [],
   "source": [
    "X = df.drop(columns='Life expectancy')\n",
    "y = df['Life expectancy']"
   ]
  },
  {
   "cell_type": "code",
   "execution_count": 13,
   "id": "496f5944-0654-4b55-8089-f7d92ed88b0b",
   "metadata": {},
   "outputs": [],
   "source": [
    "from sklearn.model_selection import train_test_split\n",
    "X_train, X_test, y_train, y_test = train_test_split(X, y, test_size=0.20, random_state=1)"
   ]
  },
  {
   "cell_type": "code",
   "execution_count": 14,
   "id": "b66acc20-d8d5-451a-92d4-571a5652afd9",
   "metadata": {},
   "outputs": [],
   "source": [
    "pool_train = Pool(X_train, y_train, cat_features = ['Country','Year','Status'])"
   ]
  },
  {
   "cell_type": "code",
   "execution_count": 15,
   "id": "9a308077-afb3-41f2-8aa5-96a9a23124b0",
   "metadata": {},
   "outputs": [],
   "source": [
    "pool_test = Pool(X_test, cat_features = ['Country','Year','Status'])\n",
    "\n",
    "\n",
    "#CatBoost"
   ]
  },
  {
   "cell_type": "code",
   "execution_count": 17,
   "id": "04f0bd2f-7d0e-411f-ae0d-12ae7f5fd37f",
   "metadata": {},
   "outputs": [],
   "source": [
    "import numpy as np"
   ]
  },
  {
   "cell_type": "code",
   "execution_count": 18,
   "id": "584ae30a-626d-41a2-a115-89ab9a6886d1",
   "metadata": {},
   "outputs": [
    {
     "name": "stdout",
     "output_type": "stream",
     "text": [
      "Learning rate set to 0.304491\n",
      "0:\tlearn: 7.9025775\ttotal: 15.9ms\tremaining: 1.57s\n",
      "1:\tlearn: 6.6171156\ttotal: 39.8ms\tremaining: 1.95s\n",
      "2:\tlearn: 5.7048219\ttotal: 52.1ms\tremaining: 1.68s\n",
      "3:\tlearn: 5.0759920\ttotal: 73.9ms\tremaining: 1.77s\n",
      "4:\tlearn: 4.6535935\ttotal: 85.5ms\tremaining: 1.62s\n",
      "5:\tlearn: 4.3251864\ttotal: 106ms\tremaining: 1.66s\n",
      "6:\tlearn: 4.0517530\ttotal: 127ms\tremaining: 1.68s\n",
      "7:\tlearn: 3.8478164\ttotal: 149ms\tremaining: 1.72s\n",
      "8:\tlearn: 3.6603305\ttotal: 168ms\tremaining: 1.7s\n",
      "9:\tlearn: 3.5540215\ttotal: 184ms\tremaining: 1.66s\n",
      "10:\tlearn: 3.4172624\ttotal: 203ms\tremaining: 1.64s\n",
      "11:\tlearn: 3.3573197\ttotal: 226ms\tremaining: 1.66s\n",
      "12:\tlearn: 3.2889161\ttotal: 248ms\tremaining: 1.66s\n",
      "13:\tlearn: 3.2534722\ttotal: 264ms\tremaining: 1.62s\n",
      "14:\tlearn: 3.2195159\ttotal: 281ms\tremaining: 1.59s\n",
      "15:\tlearn: 3.1754573\ttotal: 298ms\tremaining: 1.56s\n",
      "16:\tlearn: 3.1537368\ttotal: 314ms\tremaining: 1.53s\n",
      "17:\tlearn: 3.1129730\ttotal: 330ms\tremaining: 1.5s\n",
      "18:\tlearn: 3.0919768\ttotal: 346ms\tremaining: 1.47s\n",
      "19:\tlearn: 3.0611435\ttotal: 362ms\tremaining: 1.45s\n",
      "20:\tlearn: 3.0347955\ttotal: 379ms\tremaining: 1.42s\n",
      "21:\tlearn: 3.0023716\ttotal: 394ms\tremaining: 1.4s\n",
      "22:\tlearn: 2.9770139\ttotal: 413ms\tremaining: 1.38s\n",
      "23:\tlearn: 2.9434537\ttotal: 438ms\tremaining: 1.39s\n",
      "24:\tlearn: 2.9274455\ttotal: 456ms\tremaining: 1.37s\n",
      "25:\tlearn: 2.9050048\ttotal: 473ms\tremaining: 1.35s\n",
      "26:\tlearn: 2.8837284\ttotal: 490ms\tremaining: 1.32s\n",
      "27:\tlearn: 2.8680861\ttotal: 506ms\tremaining: 1.3s\n",
      "28:\tlearn: 2.8354716\ttotal: 522ms\tremaining: 1.28s\n",
      "29:\tlearn: 2.7836422\ttotal: 538ms\tremaining: 1.25s\n",
      "30:\tlearn: 2.7707164\ttotal: 555ms\tremaining: 1.23s\n",
      "31:\tlearn: 2.7670314\ttotal: 572ms\tremaining: 1.22s\n",
      "32:\tlearn: 2.7320090\ttotal: 589ms\tremaining: 1.19s\n",
      "33:\tlearn: 2.7052438\ttotal: 605ms\tremaining: 1.17s\n",
      "34:\tlearn: 2.6861261\ttotal: 623ms\tremaining: 1.16s\n",
      "35:\tlearn: 2.6691164\ttotal: 648ms\tremaining: 1.15s\n",
      "36:\tlearn: 2.6510675\ttotal: 668ms\tremaining: 1.14s\n",
      "37:\tlearn: 2.6295877\ttotal: 687ms\tremaining: 1.12s\n",
      "38:\tlearn: 2.6214563\ttotal: 707ms\tremaining: 1.11s\n",
      "39:\tlearn: 2.6158461\ttotal: 726ms\tremaining: 1.09s\n",
      "40:\tlearn: 2.6079226\ttotal: 743ms\tremaining: 1.07s\n",
      "41:\tlearn: 2.5864065\ttotal: 759ms\tremaining: 1.05s\n",
      "42:\tlearn: 2.5573959\ttotal: 775ms\tremaining: 1.03s\n",
      "43:\tlearn: 2.5420570\ttotal: 791ms\tremaining: 1.01s\n",
      "44:\tlearn: 2.5349735\ttotal: 806ms\tremaining: 985ms\n",
      "45:\tlearn: 2.5172896\ttotal: 823ms\tremaining: 967ms\n",
      "46:\tlearn: 2.5079588\ttotal: 846ms\tremaining: 954ms\n",
      "47:\tlearn: 2.4902561\ttotal: 869ms\tremaining: 942ms\n",
      "48:\tlearn: 2.4806435\ttotal: 892ms\tremaining: 928ms\n",
      "49:\tlearn: 2.4726409\ttotal: 912ms\tremaining: 912ms\n",
      "50:\tlearn: 2.4561163\ttotal: 933ms\tremaining: 897ms\n",
      "51:\tlearn: 2.4323264\ttotal: 955ms\tremaining: 882ms\n",
      "52:\tlearn: 2.4216332\ttotal: 975ms\tremaining: 865ms\n",
      "53:\tlearn: 2.4154714\ttotal: 995ms\tremaining: 847ms\n",
      "54:\tlearn: 2.3950797\ttotal: 1.01s\tremaining: 830ms\n",
      "55:\tlearn: 2.3801525\ttotal: 1.03s\tremaining: 813ms\n",
      "56:\tlearn: 2.3659648\ttotal: 1.05s\tremaining: 794ms\n",
      "57:\tlearn: 2.3452742\ttotal: 1.07s\tremaining: 777ms\n",
      "58:\tlearn: 2.3409593\ttotal: 1.1s\tremaining: 762ms\n",
      "59:\tlearn: 2.3297998\ttotal: 1.11s\tremaining: 744ms\n",
      "60:\tlearn: 2.3150457\ttotal: 1.13s\tremaining: 725ms\n",
      "61:\tlearn: 2.3063544\ttotal: 1.15s\tremaining: 705ms\n",
      "62:\tlearn: 2.2917547\ttotal: 1.17s\tremaining: 686ms\n",
      "63:\tlearn: 2.2869405\ttotal: 1.18s\tremaining: 667ms\n",
      "64:\tlearn: 2.2869385\ttotal: 1.2s\tremaining: 647ms\n",
      "65:\tlearn: 2.2785232\ttotal: 1.22s\tremaining: 628ms\n",
      "66:\tlearn: 2.2725131\ttotal: 1.24s\tremaining: 609ms\n",
      "67:\tlearn: 2.2661238\ttotal: 1.25s\tremaining: 589ms\n",
      "68:\tlearn: 2.2559663\ttotal: 1.27s\tremaining: 571ms\n",
      "69:\tlearn: 2.2507234\ttotal: 1.29s\tremaining: 555ms\n",
      "70:\tlearn: 2.2455012\ttotal: 1.32s\tremaining: 538ms\n",
      "71:\tlearn: 2.2323421\ttotal: 1.34s\tremaining: 520ms\n",
      "72:\tlearn: 2.2250958\ttotal: 1.36s\tremaining: 502ms\n",
      "73:\tlearn: 2.2127275\ttotal: 1.38s\tremaining: 484ms\n",
      "74:\tlearn: 2.2003187\ttotal: 1.4s\tremaining: 465ms\n",
      "75:\tlearn: 2.1908967\ttotal: 1.43s\tremaining: 451ms\n",
      "76:\tlearn: 2.1853010\ttotal: 1.45s\tremaining: 432ms\n",
      "77:\tlearn: 2.1836928\ttotal: 1.46s\tremaining: 413ms\n",
      "78:\tlearn: 2.1779715\ttotal: 1.48s\tremaining: 394ms\n",
      "79:\tlearn: 2.1673794\ttotal: 1.5s\tremaining: 376ms\n",
      "80:\tlearn: 2.1616448\ttotal: 1.52s\tremaining: 358ms\n",
      "81:\tlearn: 2.1563798\ttotal: 1.54s\tremaining: 339ms\n",
      "82:\tlearn: 2.1455513\ttotal: 1.56s\tremaining: 320ms\n",
      "83:\tlearn: 2.1391592\ttotal: 1.58s\tremaining: 300ms\n",
      "84:\tlearn: 2.1391267\ttotal: 1.59s\tremaining: 281ms\n",
      "85:\tlearn: 2.1341655\ttotal: 1.61s\tremaining: 262ms\n",
      "86:\tlearn: 2.1290126\ttotal: 1.63s\tremaining: 244ms\n",
      "87:\tlearn: 2.1275881\ttotal: 1.66s\tremaining: 226ms\n",
      "88:\tlearn: 2.1263619\ttotal: 1.68s\tremaining: 207ms\n",
      "89:\tlearn: 2.1197546\ttotal: 1.7s\tremaining: 189ms\n",
      "90:\tlearn: 2.1180986\ttotal: 1.72s\tremaining: 171ms\n",
      "91:\tlearn: 2.1165899\ttotal: 1.74s\tremaining: 152ms\n",
      "92:\tlearn: 2.1163791\ttotal: 1.76s\tremaining: 133ms\n",
      "93:\tlearn: 2.1162616\ttotal: 1.78s\tremaining: 114ms\n",
      "94:\tlearn: 2.1091064\ttotal: 1.8s\tremaining: 94.7ms\n",
      "95:\tlearn: 2.1045999\ttotal: 1.82s\tremaining: 75.8ms\n",
      "96:\tlearn: 2.0960601\ttotal: 1.83s\tremaining: 56.8ms\n",
      "97:\tlearn: 2.0873684\ttotal: 1.85s\tremaining: 37.8ms\n",
      "98:\tlearn: 2.0851713\ttotal: 1.87s\tremaining: 18.9ms\n",
      "99:\tlearn: 2.0818062\ttotal: 1.88s\tremaining: 0us\n",
      "R Squared for CatBoost:  0.9727381663203001\n",
      "Execution time: 2.0812692642211914\n"
     ]
    }
   ],
   "source": [
    "import time\n",
    "\n",
    "start = time.time()\n",
    "\n",
    "cbr = CatBoostRegressor(iterations=100,max_depth=2)\n",
    "\n",
    "cbr.fit(pool_train)\n",
    "y_pred = cbr.predict(X_test)\n",
    "from sklearn.metrics import r2_score as RSquared\n",
    "\n",
    "\n",
    "cb_rsquared = np.sqrt(RSquared(y_test, y_pred))\n",
    "print(\"R Squared for CatBoost: \", np.mean(cb_rsquared))\n",
    "\n",
    "end = time.time()\n",
    "diff = end - start\n",
    "print('Execution time:', diff)"
   ]
  },
  {
   "cell_type": "code",
   "execution_count": 21,
   "id": "8baaf872-3476-44e8-9dbe-5ab57634466a",
   "metadata": {},
   "outputs": [
    {
     "name": "stdout",
     "output_type": "stream",
     "text": [
      "R Squared for XGBoost:  0.9796591712933758\n",
      "Execution time: 0.4153261184692383\n"
     ]
    }
   ],
   "source": [
    "import xgboost as xgb\n",
    "from sklearn import preprocessing\n",
    "X = df.drop(columns='Life expectancy')\n",
    "y = df['Life expectancy']\n",
    "\n",
    "lbl = preprocessing.LabelEncoder()\n",
    "#Country','Year','Status\n",
    "X['Country'] = lbl.fit_transform(X['Country'].astype(str))\n",
    "X['Year'] = lbl.fit_transform(X['Year'].astype(str))\n",
    "X['Status'] = lbl.fit_transform(X['Status'].astype(str))\n",
    "\n",
    "from sklearn.model_selection import train_test_split\n",
    "X_train, X_test, y_train, y_test = train_test_split(X, y, test_size=0.20, \n",
    "                                                    random_state=1)\n",
    "\n",
    "start = time.time()\n",
    "#X_train[\"Species\"].astype(\"category\")\n",
    "xgbr = xgb.XGBRegressor()\n",
    "\n",
    "xgbr.fit(X_train, y_train)\n",
    "y_pred = xgbr.predict(X_test)\n",
    "\n",
    "xgb_rmse = np.sqrt(RSquared(y_test, y_pred))\n",
    "print(\"R Squared for XGBoost: \", np.mean(xgb_rmse))\n",
    "\n",
    "end = time.time()\n",
    "diff = end - start\n",
    "print('Execution time:', diff)"
   ]
  },
  {
   "cell_type": "code",
   "execution_count": 24,
   "id": "1f5cf3c7-4e9f-48e1-a8da-611460858e8e",
   "metadata": {},
   "outputs": [
    {
     "name": "stdout",
     "output_type": "stream",
     "text": [
      "[LightGBM] [Warning] Found whitespace in feature_names, replace with underlines\n",
      "[LightGBM] [Info] Auto-choosing col-wise multi-threading, the overhead of testing was 0.000527 seconds.\n",
      "You can set `force_col_wise=true` to remove the overhead.\n",
      "[LightGBM] [Info] Total Bins 3522\n",
      "[LightGBM] [Info] Number of data points in the train set: 2342, number of used features: 21\n",
      "[LightGBM] [Info] Start training from score 69.262724\n",
      "\n",
      "R squared for LightGBM:  0.9829598720069529\n",
      "Execution time: 0.42711687088012695\n"
     ]
    }
   ],
   "source": [
    "import lightgbm\n",
    "X = df.drop(columns='Life expectancy')\n",
    "y = df['Life expectancy']\n",
    "obj_feat = list(X.loc[:, X.dtypes == 'object'].columns.values)\n",
    "\n",
    "for feature in obj_feat:\n",
    "    X[feature] = pd.Series(X[feature], dtype=\"category\")\n",
    "\n",
    "start = time.time()\n",
    "\n",
    "lgbmr = lightgbm.LGBMRegressor()\n",
    "X_train, X_test, y_train, y_test = train_test_split(X, y, test_size=0.20, \n",
    "                                                    random_state=1)\n",
    "\n",
    "lgbmr.fit(X_train, y_train)\n",
    "y_pred = lgbmr.predict(X_test)\n",
    "\n",
    "lgbm_rsquared = np.sqrt(RSquared(y_test, y_pred))\n",
    "print()\n",
    "print(\"R squared for LightGBM: \", np.mean(lgbm_rsquared))\n",
    "\n",
    "end = time.time()\n",
    "diff = end - start\n",
    "print('Execution time:', diff)"
   ]
  },
  {
   "cell_type": "code",
   "execution_count": 23,
   "id": "27f4cd88-248a-4d4d-a3da-010411a28702",
   "metadata": {},
   "outputs": [
    {
     "name": "stdout",
     "output_type": "stream",
     "text": [
      "Collecting lightgbm\n",
      "  Downloading lightgbm-4.6.0-py3-none-win_amd64.whl.metadata (17 kB)\n",
      "Requirement already satisfied: numpy>=1.17.0 in c:\\users\\chara\\appdata\\local\\programs\\python\\python311\\lib\\site-packages (from lightgbm) (1.26.4)\n",
      "Requirement already satisfied: scipy in c:\\users\\chara\\appdata\\local\\programs\\python\\python311\\lib\\site-packages (from lightgbm) (1.15.2)\n",
      "Downloading lightgbm-4.6.0-py3-none-win_amd64.whl (1.5 MB)\n",
      "   ---------------------------------------- 0.0/1.5 MB ? eta -:--:--\n",
      "   ---------------------------------------- 1.5/1.5 MB 9.5 MB/s eta 0:00:00\n",
      "Installing collected packages: lightgbm\n",
      "Successfully installed lightgbm-4.6.0\n"
     ]
    },
    {
     "name": "stderr",
     "output_type": "stream",
     "text": [
      "WARNING: Ignoring invalid distribution ~treamlit (C:\\Users\\chara\\AppData\\Local\\Programs\\Python\\Python311\\Lib\\site-packages)\n",
      "WARNING: Ignoring invalid distribution ~treamlit (C:\\Users\\chara\\AppData\\Local\\Programs\\Python\\Python311\\Lib\\site-packages)\n",
      "WARNING: Ignoring invalid distribution ~treamlit (C:\\Users\\chara\\AppData\\Local\\Programs\\Python\\Python311\\Lib\\site-packages)\n"
     ]
    }
   ],
   "source": [
    "!pip install lightgbm"
   ]
  },
  {
   "cell_type": "code",
   "execution_count": null,
   "id": "3bfe2e87-a1a1-4131-bdfc-462cf1124e9f",
   "metadata": {},
   "outputs": [],
   "source": []
  }
 ],
 "metadata": {
  "kernelspec": {
   "display_name": "Python 3 (ipykernel)",
   "language": "python",
   "name": "python3"
  },
  "language_info": {
   "codemirror_mode": {
    "name": "ipython",
    "version": 3
   },
   "file_extension": ".py",
   "mimetype": "text/x-python",
   "name": "python",
   "nbconvert_exporter": "python",
   "pygments_lexer": "ipython3",
   "version": "3.11.5"
  }
 },
 "nbformat": 4,
 "nbformat_minor": 5
}
